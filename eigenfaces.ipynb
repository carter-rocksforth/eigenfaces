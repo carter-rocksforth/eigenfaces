{
 "cells": [
  {
   "cell_type": "code",
   "execution_count": null,
   "metadata": {
    "collapsed": true
   },
   "outputs": [],
   "source": [
    "# This file goes through how to use singular value decomposition \n",
    "# in the generation of eigenfaces"
   ]
  },
  {
   "cell_type": "code",
   "execution_count": null,
   "metadata": {
    "collapsed": true
   },
   "outputs": [],
   "source": [
    "import glob\n",
    "import os\n",
    "\n",
    "import numpy as np\n",
    "import matplotlib\n",
    "import matplotlib.pyplot as plt\n",
    "from scipy import misc\n",
    "\n",
    "%matplotlib inline"
   ]
  },
  {
   "cell_type": "markdown",
   "metadata": {},
   "source": [
    "# Reading in the Data"
   ]
  },
  {
   "cell_type": "code",
   "execution_count": null,
   "metadata": {
    "collapsed": true
   },
   "outputs": [],
   "source": [
    "# Setting the path to the faces\n",
    "data_path = os.path.join('data', 'CroppedYale')"
   ]
  },
  {
   "cell_type": "code",
   "execution_count": null,
   "metadata": {
    "collapsed": true
   },
   "outputs": [],
   "source": [
    "# Parameters\n",
    "image_width = 168\n",
    "image_height = 192"
   ]
  },
  {
   "cell_type": "code",
   "execution_count": null,
   "metadata": {},
   "outputs": [],
   "source": [
    "# Reading and storing all the faces. All faces should be 2-D images of shape (192, 168)\n",
    "face_paths = glob.glob('{}/**/*.pgm'.format(data_path))\n",
    "\n",
    "faces = np.zeros(shape=(len(face_paths), image_width * image_height))\n",
    "\n",
    "for i, face_path in enumerate(face_paths):\n",
    "    # We want to confirm the shape of the faces\n",
    "    faces[i] = misc.imread(face_path).flatten()"
   ]
  },
  {
   "cell_type": "markdown",
   "metadata": {},
   "source": [
    "# Sample Faces"
   ]
  },
  {
   "cell_type": "code",
   "execution_count": null,
   "metadata": {},
   "outputs": [],
   "source": [
    "fig, axes = plt.subplots(5, 5, figsize=(image_width / 20, image_height / 20))\n",
    "\n",
    "random_faces = np.random.randint(0, len(faces), 25)\n",
    "for i, ax in enumerate(axes.flatten()):\n",
    "    ax.imshow(faces[random_faces[i], :].reshape(192, 168), cmap='gray')\n",
    "    ax.tick_params(\n",
    "        left=False,\n",
    "        labelleft=False,\n",
    "        bottom=False,\n",
    "        labelbottom=False\n",
    "    )\n",
    "    \n",
    "fig.subplots_adjust(hspace=0, wspace=0)"
   ]
  },
  {
   "cell_type": "markdown",
   "metadata": {},
   "source": [
    "# Performing the Singular Value Decomposition"
   ]
  },
  {
   "cell_type": "code",
   "execution_count": null,
   "metadata": {},
   "outputs": [],
   "source": [
    "# First, subtracting the \"mean face\" from all faces\n",
    "mean_face = faces.mean(axis=0)\n",
    "faces -= mean_face\n",
    "\n",
    "# Seeing what the mean face looks like\n",
    "plt.imshow(mean_face.reshape(192, 168), cmap='gray')"
   ]
  },
  {
   "cell_type": "code",
   "execution_count": null,
   "metadata": {},
   "outputs": [],
   "source": [
    "# Performing the Singular Value Decomposition\n",
    "u, s, v = np.linalg.svd(faces, full_matrices=False)"
   ]
  },
  {
   "cell_type": "code",
   "execution_count": null,
   "metadata": {},
   "outputs": [],
   "source": [
    "# Visualizing the Importance of the Singular Values\n",
    "matplotlib.rcParams['figure.figsize'] = [30, 10]\n",
    "matplotlib.rcParams.update({'font.size': 22})\n",
    "fig, axes = plt.subplots(1, 3)\n",
    "\n",
    "ind = np.arange(len(s))\n",
    "\n",
    "# Plotting the Cumulative Variance Captured\n",
    "ax = axes[0]\n",
    "ax.plot(ind, (np.cumsum(s) / s.sum()), linewidth=3)\n",
    "ax.set_ylabel('Cumulative Percentage Variance Captured')\n",
    "ax.set_xlabel('Number of Singular Values')\n",
    "ax.set_title('Cumulative Variance Captured')\n",
    "\n",
    "# Plotting the Percentage Variance Captured in the Singular Values\n",
    "ax = axes[1]\n",
    "ax.plot(ind, s / s.sum(), linewidth=3)\n",
    "ax.set_ylabel('Percentage Variance Captured')\n",
    "ax.set_xlabel('Number of Singular Values')\n",
    "ax.set_title('Percentage Variance Captured')\n",
    "\n",
    "# Plotting the Log Percentage Variance Captured in the Singular Values\n",
    "ax = axes[2]\n",
    "ax.plot(ind, np.log(s / s.sum()), linewidth=3)\n",
    "ax.set_ylabel('Log Percentage Variance Captured')\n",
    "ax.set_xlabel('Number of Singular Values')\n",
    "ax.set_title('Log Percentage Variance Captured')\n",
    "\n",
    "plt.tight_layout()\n",
    "plt.show()"
   ]
  },
  {
   "cell_type": "code",
   "execution_count": null,
   "metadata": {},
   "outputs": [],
   "source": [
    "ind"
   ]
  },
  {
   "cell_type": "code",
   "execution_count": null,
   "metadata": {},
   "outputs": [],
   "source": [
    "plt.imshow(u, vmin=u.min(), vmax=u.max())"
   ]
  },
  {
   "cell_type": "code",
   "execution_count": null,
   "metadata": {},
   "outputs": [],
   "source": [
    "np.diag(u)"
   ]
  },
  {
   "cell_type": "code",
   "execution_count": null,
   "metadata": {},
   "outputs": [],
   "source": [
    "s"
   ]
  },
  {
   "cell_type": "code",
   "execution_count": null,
   "metadata": {},
   "outputs": [],
   "source": [
    "u.shape"
   ]
  },
  {
   "cell_type": "code",
   "execution_count": null,
   "metadata": {},
   "outputs": [],
   "source": [
    "s"
   ]
  },
  {
   "cell_type": "code",
   "execution_count": null,
   "metadata": {},
   "outputs": [],
   "source": [
    "v.shape"
   ]
  },
  {
   "cell_type": "code",
   "execution_count": null,
   "metadata": {},
   "outputs": [],
   "source": [
    "plt.imshow(faces.mean(axis=0).reshape(192, 168), cmap='gray')"
   ]
  },
  {
   "cell_type": "code",
   "execution_count": null,
   "metadata": {},
   "outputs": [],
   "source": [
    "faces.shape"
   ]
  },
  {
   "cell_type": "code",
   "execution_count": null,
   "metadata": {},
   "outputs": [],
   "source": [
    "faces[0, :].shape"
   ]
  },
  {
   "cell_type": "code",
   "execution_count": null,
   "metadata": {},
   "outputs": [],
   "source": [
    "plt.imshow(faces[90, :].reshape(192, 168), cmap='gray', vmin=0, vmax=255)"
   ]
  },
  {
   "cell_type": "code",
   "execution_count": null,
   "metadata": {},
   "outputs": [],
   "source": [
    "'{}/*.pgm'.format(data_path)"
   ]
  },
  {
   "cell_type": "code",
   "execution_count": null,
   "metadata": {},
   "outputs": [],
   "source": [
    "plt.imshow(test, cmap='gray', vmin=0, vmax=255)"
   ]
  },
  {
   "cell_type": "code",
   "execution_count": null,
   "metadata": {},
   "outputs": [],
   "source": [
    "test"
   ]
  },
  {
   "cell_type": "code",
   "execution_count": null,
   "metadata": {},
   "outputs": [],
   "source": [
    "test[:,:]"
   ]
  },
  {
   "cell_type": "code",
   "execution_count": null,
   "metadata": {},
   "outputs": [],
   "source": [
    "[np.newaxis, test[:]]"
   ]
  },
  {
   "cell_type": "code",
   "execution_count": null,
   "metadata": {},
   "outputs": [],
   "source": [
    "row = np.array([0, 1, 2])\n",
    "row[:, np.newaxis]"
   ]
  },
  {
   "cell_type": "code",
   "execution_count": null,
   "metadata": {},
   "outputs": [],
   "source": [
    "test.flatten().shape"
   ]
  },
  {
   "cell_type": "code",
   "execution_count": null,
   "metadata": {},
   "outputs": [],
   "source": [
    "test.shape"
   ]
  },
  {
   "cell_type": "code",
   "execution_count": null,
   "metadata": {},
   "outputs": [],
   "source": [
    "plt.imshow(test.flatten().reshape(192, 168))"
   ]
  },
  {
   "cell_type": "code",
   "execution_count": null,
   "metadata": {
    "collapsed": true
   },
   "outputs": [],
   "source": []
  }
 ],
 "metadata": {
  "kernelspec": {
   "display_name": "Python 3",
   "language": "python",
   "name": "python3"
  },
  "language_info": {
   "codemirror_mode": {
    "name": "ipython",
    "version": 3
   },
   "file_extension": ".py",
   "mimetype": "text/x-python",
   "name": "python",
   "nbconvert_exporter": "python",
   "pygments_lexer": "ipython3",
   "version": "3.6.1"
  }
 },
 "nbformat": 4,
 "nbformat_minor": 2
}
